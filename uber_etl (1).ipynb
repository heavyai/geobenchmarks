{
 "cells": [
  {
   "cell_type": "markdown",
   "metadata": {},
   "source": [
    "## Benchmark Point in Polygon"
   ]
  },
  {
   "cell_type": "markdown",
   "metadata": {},
   "source": [
    "Some realistic test cases of enriching polygons with point data and vice versa, using Uber's NYC Trip Data and census blocks."
   ]
  },
  {
   "cell_type": "markdown",
   "metadata": {},
   "source": [
    "Inspired by this post:"
   ]
  },
  {
   "cell_type": "markdown",
   "metadata": {},
   "source": [
    "https://www.linkedin.com/posts/mbforr_python-sql-spatialsql-activity-6834177271616589824-ScB-"
   ]
  },
  {
   "cell_type": "code",
   "execution_count": null,
   "metadata": {},
   "outputs": [],
   "source": [
    "con = omnisci_connect()\n",
    "con"
   ]
  },
  {
   "cell_type": "markdown",
   "metadata": {},
   "source": [
    "#### Spatial Join Timing Test"
   ]
  },
  {
   "cell_type": "markdown",
   "metadata": {},
   "source": [
    "##### Enriching uber points with census ids"
   ]
  },
  {
   "cell_type": "code",
   "execution_count": null,
   "metadata": {},
   "outputs": [],
   "source": [
    "q = \"SELECT \"\n",
    "q +=    \"trips.trip_datetime, trips.base, trips.omnisci_geo, \"\n",
    "q +=    \"census.STATE_FIPS, census.CNTY_FIPS, census.STCOFIPS, census.TRACT, census.BLKGRP, census.FIPS  \"\n",
    "q += \"FROM \"\n",
    "q +=    \"uber_nyc_trips_geo as trips, us_census_bg as census \"\n",
    "q += \"WHERE \"\n",
    "q +=   f\"ST_CONTAINS(census.omnisci_geo, trips.omnisci_geo)\"\n",
    "q"
   ]
  },
  {
   "cell_type": "code",
   "execution_count": null,
   "metadata": {},
   "outputs": [],
   "source": [
    "t0 = time()\n",
    "con.con.execute(q)\n",
    "t1 = time()\n",
    "print(f\"Spatial enrichment of 4.5m points in memory with geo column took {t1-t0} seconds\")"
   ]
  },
  {
   "cell_type": "code",
   "execution_count": null,
   "metadata": {},
   "outputs": [],
   "source": [
    "ctas = f\"CREATE TABLE IF NOT EXISTS uber_nyc_census_enriched_geo AS ({q})\"\n",
    "ctas"
   ]
  },
  {
   "cell_type": "code",
   "execution_count": null,
   "metadata": {},
   "outputs": [],
   "source": [
    "t0 = time()\n",
    "con.con.execute(ctas)\n",
    "t1 = time()\n",
    "print(f\"Spatial enrichment of 4.5m points with materialization took {t1-t0} seconds\")"
   ]
  },
  {
   "cell_type": "markdown",
   "metadata": {},
   "source": [
    "Using raw longitude and latitude columns"
   ]
  },
  {
   "cell_type": "code",
   "execution_count": null,
   "metadata": {},
   "outputs": [],
   "source": [
    "trip_points = \"ST_SETSRID(ST_POINT(trips.longitude, trips.latitude),4326)\"\n",
    "q = \"SELECT \"\n",
    "q +=    \"trips.trip_datetime, trips.base, \"\n",
    "q +=   f\"{trip_points} as omnisci_geo, \"\n",
    "q +=    \"census.STATE_FIPS, census.CNTY_FIPS, census.STCOFIPS, census.TRACT, census.BLKGRP, census.FIPS  \"\n",
    "q += \"FROM \"\n",
    "q +=    \"uber_nyc_trips as trips, us_census_bg as census \"\n",
    "q += \"WHERE \"\n",
    "q +=   f\"ST_CONTAINS(census.omnisci_geo, {trip_points})\"\n",
    "q"
   ]
  },
  {
   "cell_type": "code",
   "execution_count": null,
   "metadata": {},
   "outputs": [],
   "source": [
    "t0 = time()\n",
    "con.con.execute(q)\n",
    "t1 = time()\n",
    "print(f\"Spatial enrichment of 4.5m points in memory with raw columns took {t1-t0} seconds\")"
   ]
  },
  {
   "cell_type": "code",
   "execution_count": null,
   "metadata": {},
   "outputs": [],
   "source": [
    "con.con.execute(\"DROP TABLE IF EXISTS uber_nyc_census_enriched\")"
   ]
  },
  {
   "cell_type": "code",
   "execution_count": null,
   "metadata": {},
   "outputs": [],
   "source": [
    "ctas = f\"CREATE TABLE IF NOT EXISTS uber_nyc_census_enriched AS ({q})\""
   ]
  },
  {
   "cell_type": "code",
   "execution_count": null,
   "metadata": {},
   "outputs": [],
   "source": [
    "t0 = time()\n",
    "con.con.execute(ctas)\n",
    "t1 = time()\n",
    "print(f\"Spatial enrichment of 4.5m points with materialization took {t1-t0} seconds\")"
   ]
  },
  {
   "cell_type": "markdown",
   "metadata": {},
   "source": [
    "#### Summarization on Block Group Geometries"
   ]
  },
  {
   "cell_type": "code",
   "execution_count": null,
   "metadata": {},
   "outputs": [],
   "source": [
    "trip_points = \"ST_SETSRID(ST_POINT(trips.longitude, trips.latitude),4326)\"\n",
    "q = \"SELECT \"\n",
    "q +=    \"count(*) as trip_count, count(distinct trips.base) as base_count, \"\n",
    "q +=   f\"sample(census.omnisci_geo) as omnisci_geo, \"\n",
    "q +=    \"sample(census.STATE_FIPS) as STATE_FIPS, \"\n",
    "q +=    \"sample(census.CNTY_FIPS) as CNTY_FIPS, \"\n",
    "q +=    \"sample(census.STCOFIPS) as STCOFIPS, \"\n",
    "q +=    \"sample(census.TRACT) as TRACT, \"\n",
    "q +=    \"sample(census.BLKGRP) as BLKGRP, \"\n",
    "q +=    \"census.FIPS  \"\n",
    "q += \"FROM \"\n",
    "q +=    \"uber_nyc_trips as trips, us_census_bg as census \"\n",
    "q += \"WHERE \"\n",
    "q +=   f\"ST_CONTAINS(census.omnisci_geo, {trip_points})\"\n",
    "q += \"GROUP BY \"\n",
    "q +=   \"census.FIPS\"\n",
    "q"
   ]
  },
  {
   "cell_type": "code",
   "execution_count": null,
   "metadata": {},
   "outputs": [],
   "source": [
    "t0 = time()\n",
    "con.con.execute(q)\n",
    "t1 = time()\n",
    "print(f\"Spatial enrichment of census block polygons from 4.5m points in memory took {t1-t0} seconds\")"
   ]
  },
  {
   "cell_type": "code",
   "execution_count": null,
   "metadata": {},
   "outputs": [],
   "source": [
    "con.con.execute(\"DROP TABLE IF EXISTS nyc_census_bg_uber_enriched\")"
   ]
  },
  {
   "cell_type": "code",
   "execution_count": null,
   "metadata": {},
   "outputs": [],
   "source": [
    "ctas = f\"CREATE TABLE IF NOT EXISTS nyc_census_bg_uber_enriched AS ({q})\""
   ]
  },
  {
   "cell_type": "code",
   "execution_count": null,
   "metadata": {},
   "outputs": [],
   "source": [
    "t0 = time()\n",
    "con.con.execute(ctas)\n",
    "t1 = time()\n",
    "print(f\"Spatial enrichment of census blocks with 4.5m points with materialization took {t1-t0} seconds\")"
   ]
  },
  {
   "cell_type": "code",
   "execution_count": null,
   "metadata": {
    "collapsed": true,
    "jupyter": {
     "outputs_hidden": true
    }
   },
   "outputs": [],
   "source": []
  }
 ],
 "metadata": {
  "kernelspec": {
   "display_name": "Python 3",
   "language": "python",
   "name": "python3"
  },
  "language_info": {
   "codemirror_mode": {
    "name": "ipython",
    "version": 3
   },
   "file_extension": ".py",
   "mimetype": "text/x-python",
   "name": "python",
   "nbconvert_exporter": "python",
   "pygments_lexer": "ipython3",
   "version": "3.7.6"
  }
 },
 "nbformat": 4,
 "nbformat_minor": 4
}
