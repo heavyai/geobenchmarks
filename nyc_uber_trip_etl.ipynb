{
 "cells": [
  {
   "cell_type": "markdown",
   "metadata": {},
   "source": [
    "### Uber NYC Trip Data ETL"
   ]
  },
  {
   "cell_type": "markdown",
   "metadata": {},
   "source": [
    "Direct import from Kaggle version of this dataset does not work because archive contains multiple files with different schema.  Turns out, complete dataset we want spread across several 'uber-raw-data' tables"
   ]
  },
  {
   "cell_type": "code",
   "execution_count": 94,
   "metadata": {},
   "outputs": [],
   "source": [
    "local_storage = '/freenas-theExpanse/mflaxman/uber_nyc_benchmark'"
   ]
  },
  {
   "cell_type": "markdown",
   "metadata": {},
   "source": [
    "#### For all raw data"
   ]
  },
  {
   "cell_type": "markdown",
   "metadata": {},
   "source": [
    "Drop prior table to repeat."
   ]
  },
  {
   "cell_type": "code",
   "execution_count": 96,
   "metadata": {},
   "outputs": [],
   "source": [
    "if 0:\n",
    "    con.con.execute(\"DROP TABLE IF EXISTS uber_nyc_trips\")"
   ]
  },
  {
   "cell_type": "markdown",
   "metadata": {},
   "source": [
    "Download and unzip Uber's data to a folder specified here"
   ]
  },
  {
   "cell_type": "code",
   "execution_count": 21,
   "metadata": {},
   "outputs": [],
   "source": [
    "filespec = f\"/freenas-theExpanse/mflaxman/uber_nyc_benchmark/uber-raw-data*.csv\""
   ]
  },
  {
   "cell_type": "code",
   "execution_count": 23,
   "metadata": {},
   "outputs": [
    {
     "name": "stderr",
     "output_type": "stream",
     "text": [
      "loaded: 100%|██████████| 7/7 [04:47<00:00, 41.06s/it]                                                                            \n"
     ]
    }
   ],
   "source": [
    "count = 0\n",
    "pbar = tqdm(glob.glob(filespec))\n",
    "\n",
    "for f in pbar:\n",
    "    short_name = f.split('/')[-1]\n",
    "    pbar.set_description(f\"Processing {short_name}\")\n",
    "    count += 1\n",
    "    if count == 1:\n",
    "        ddl = \"trip_datetime TIMESTAMP, latitude DOUBLE, longitude DOUBLE, base TEXT\"\n",
    "        con.con.execute(f\"CREATE TABLE IF NOT EXISTS uber_nyc_trips ({ddl})\")\n",
    "    df = pd.read_csv(f) \n",
    "    if not 'Date/Time' in df.columns:\n",
    "        pbar.set_description(\"Found CSV with unexpected scheme, skipping\")\n",
    "        continue\n",
    "    # forward slashes in SQL column names won't do...rename more sensibly\n",
    "    df.rename(columns={\"Date/Time\":\"trip_datetime\"},inplace=True)\n",
    "    # force column type\n",
    "    df.trip_datetime = pd.to_datetime(df.trip_datetime)\n",
    "    try:\n",
    "        con.con.load_table('uber_nyc_trips',df)\n",
    "        pbar.set_description(f\"loaded\")\n",
    "    except:\n",
    "        pbar.set_description(f\"failed to load, continuing\")"
   ]
  }
 ],
 "metadata": {
  "kernelspec": {
   "display_name": "Python 3",
   "language": "python",
   "name": "python3"
  },
  "language_info": {
   "codemirror_mode": {
    "name": "ipython",
    "version": 3
   },
   "file_extension": ".py",
   "mimetype": "text/x-python",
   "name": "python",
   "nbconvert_exporter": "python",
   "pygments_lexer": "ipython3",
   "version": "3.7.6"
  }
 },
 "nbformat": 4,
 "nbformat_minor": 4
}
